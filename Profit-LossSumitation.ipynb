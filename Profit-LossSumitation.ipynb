{
 "cells": [
  {
   "cell_type": "markdown",
   "metadata": {},
   "source": [
    "# Profit Loss simulation with real sell/buy/hold"
   ]
  },
  {
   "cell_type": "code",
   "execution_count": 1,
   "metadata": {
    "collapsed": true
   },
   "outputs": [],
   "source": [
    "#Import necessary libraries\n",
    "import h2o\n",
    "import pandas as pd\n",
    "import matplotlib\n",
    "import numpy as np\n",
    "import matplotlib.pyplot as plt\n",
    "from datetime import datetime\n",
    "%matplotlib inline "
   ]
  },
  {
   "cell_type": "code",
   "execution_count": 2,
   "metadata": {
    "collapsed": false
   },
   "outputs": [
    {
     "data": {
      "text/plain": [
       "Index([u'Date', u'Currency_pair', u'Prediction_action', u'Day Open', u'Day Close', u'Day High', u'Day Low', u'Day Average', u'Momentum_3day', u'Momentum_4day', u'Momentum_5day', u'Momentum_8day', u'Momentum_9day', u'Momentum_10day', u'Roc_3day', u'Roc_4day', u'Roc_5day', u'Roc_8day', u'Roc_9day', u'Roc_10day', u'Fast_k_3day', u'Fast_d_3day', u'Fast_k_4day', u'Fast_d_4day', u'Fast_k_5day', u'Fast_d_5day', u'Fast_k_8day', u'Fast_d_8day', u'Fast_k_9day', u'Fast_d_9day', u'Fast_k_10day', u'Fast_d_10day', u'PROC_12day', u'PROC_13day', u'PROC_14day', u'PROC_15day', u'Weighted_Close_Price', u'WILLIAM_A_D', u'ADOSC_1day', u'ADOSC_2day', u'ADOSC_3day', u'ADOSC_4day', u'ADOSC_5day', u'EMA_12Day', u'EMA_26Day', u'MACD', u'CCI', u'BOLLINGER_BANDS_LOW', u'BOLLINGER_BANDS_HIGH', u'HEIKIN_ASHI_XCLOSE', u'HEIKIN_ASHI_XOPEN', u'HEIKIN_ASHI_XHIGH', u'HEIKIN_ASHI_XLOW', u'2DAY_HIGH', u'2DAY_LOW', u'1DAY_HIGH_LOW_AVG', u'2DAY_HIGH_LOW_AVG', u'High_slope_3day', u'High_slope_4day', u'High_slope_5day', u'High_slope_8day', u'High_slope_10day', u'High_slope_12day', u'High_slope_15day', u'High_slope_20day', u'High_slope_25day', u'High_slope_30day', u'Pips', u'Prediction_Pips', u'Volume', u'Active Hour', u'Active Hour Volume'], dtype='object')"
      ]
     },
     "execution_count": 2,
     "metadata": {},
     "output_type": "execute_result"
    }
   ],
   "source": [
    "# Read all data into memory\n",
    "all_data_df = pd.read_csv(\"./price_EUR_USD_D1_merge.csv\")\n",
    "all_data_df.columns"
   ]
  },
  {
   "cell_type": "code",
   "execution_count": 20,
   "metadata": {
    "collapsed": false
   },
   "outputs": [
    {
     "data": {
      "text/plain": [
       "['2005-01-05', '2005-01-06', '2005-01-07']"
      ]
     },
     "execution_count": 20,
     "metadata": {},
     "output_type": "execute_result"
    }
   ],
   "source": [
    "list(all_data_df[all_data_df.Date <= '2005-01-07'][-3:]['Date'])"
   ]
  },
  {
   "cell_type": "code",
   "execution_count": 22,
   "metadata": {
    "collapsed": false
   },
   "outputs": [
    {
     "name": "stdout",
     "output_type": "stream",
     "text": [
      "['2005-01-05', '2005-01-06', '2005-01-07']\n"
     ]
    }
   ],
   "source": [
    "#sampling date and write to a temprary csv\n",
    "def write_sample_data_to_csv(df,date_str_model,out_csv_file_model,date_str_predict,out_csv_file_predict):\n",
    "    new_df_model = df[df.Date <= date_str_model]\n",
    "    new_df_model.to_csv(out_csv_file_model,index = False )\n",
    "    new_df_predict = df[df.Date == date_str_predict]\n",
    "    new_df_predict.to_csv(out_csv_file_predict,index = False )\n",
    "\n",
    "\n",
    "#Generate date string list: The date to have a trading, one day before and the day before the last day\n",
    "def get_date_str_for_modeling(date_str):\n",
    "    date_str_list = list(all_data_df[all_data_df.Date <= date_str][-3:]['Date'])\n",
    "    return date_str_list\n",
    "\n",
    "date_str_list = get_date_str_for_modeling('2005-01-07')\n",
    "print(date_str_list)\n",
    "write_sample_data_to_csv(all_data_df,date_str_list[0],'./tmp_model.csv',date_str_list[1],'./tmp_predict.csv')"
   ]
  },
  {
   "cell_type": "code",
   "execution_count": 23,
   "metadata": {
    "collapsed": false
   },
   "outputs": [
    {
     "data": {
      "text/plain": [
       "'2012-01-01'"
      ]
     },
     "execution_count": 23,
     "metadata": {},
     "output_type": "execute_result"
    }
   ],
   "source": [
    "datetime(2012,10,1).strftime ('%Y-%m-%d')\n",
    "a=pd.date_range('2012-1-1', periods=10, freq='D')\n",
    "a[0].strftime ('%Y-%m-%d')"
   ]
  },
  {
   "cell_type": "code",
   "execution_count": 26,
   "metadata": {
    "collapsed": false
   },
   "outputs": [
    {
     "data": {
      "text/html": [
       "<div style=\"overflow:auto\"><table style=\"width:50%\"><tr><td>H2O cluster uptime: </td>\n",
       "<td>4 days 23 hours 26 minutes 50 seconds 822 milliseconds </td></tr>\n",
       "<tr><td>H2O cluster version: </td>\n",
       "<td>3.0.1.3</td></tr>\n",
       "<tr><td>H2O cluster name: </td>\n",
       "<td>H2O_started_from_python</td></tr>\n",
       "<tr><td>H2O cluster total nodes: </td>\n",
       "<td>1</td></tr>\n",
       "<tr><td>H2O cluster total memory: </td>\n",
       "<td>3.46 GB</td></tr>\n",
       "<tr><td>H2O cluster total cores: </td>\n",
       "<td>8</td></tr>\n",
       "<tr><td>H2O cluster allowed cores: </td>\n",
       "<td>8</td></tr>\n",
       "<tr><td>H2O cluster healthy: </td>\n",
       "<td>True</td></tr>\n",
       "<tr><td>H2O Connection ip: </td>\n",
       "<td>127.0.0.1</td></tr>\n",
       "<tr><td>H2O Connection port: </td>\n",
       "<td>54321</td></tr></table></div>"
      ],
      "text/plain": [
       "--------------------------  ------------------------------------------------------\n",
       "H2O cluster uptime:         4 days 23 hours 26 minutes 50 seconds 822 milliseconds\n",
       "H2O cluster version:        3.0.1.3\n",
       "H2O cluster name:           H2O_started_from_python\n",
       "H2O cluster total nodes:    1\n",
       "H2O cluster total memory:   3.46 GB\n",
       "H2O cluster total cores:    8\n",
       "H2O cluster allowed cores:  8\n",
       "H2O cluster healthy:        True\n",
       "H2O Connection ip:          127.0.0.1\n",
       "H2O Connection port:        54321\n",
       "--------------------------  ------------------------------------------------------"
      ]
     },
     "metadata": {},
     "output_type": "display_data"
    },
    {
     "name": "stdout",
     "output_type": "stream",
     "text": [
      "['2014-12-30', '2014-12-31', '2015-01-01']\n",
      "\n",
      "Parse Progress: [##################################################] 100%\n",
      "Imported /home/cyue/autotrade/tmp_model.csv. Parsed 3,213 rows and 72 cols\n",
      "\n",
      "Parse Progress: [##################################################] 100%\n",
      "Imported /home/cyue/autotrade/tmp_predict.csv. Parsed 1 rows and 72 cols\n",
      "\n",
      "gbm Model Build Progress: [##################################################] 100%\n"
     ]
    }
   ],
   "source": [
    "h2o.init()\n",
    "features = [ u'Day Open', u'Day Close', u'Day High', u'Day Low', u'Day Average', u'Momentum_3day', u'Momentum_4day',\n",
    "            u'Momentum_5day', u'Momentum_8day', u'Momentum_9day', u'Momentum_10day',\n",
    "            u'Roc_3day', u'Roc_4day', u'Roc_5day', u'Roc_8day', u'Roc_9day', u'Roc_10day', u'Fast_k_3day', \n",
    "            u'Fast_d_3day', u'Fast_k_4day', u'Fast_d_4day', u'Fast_k_5day', u'Fast_d_5day', u'Fast_k_8day', \n",
    "            u'Fast_d_8day', u'Fast_k_9day', u'Fast_d_9day', u'Fast_k_10day', u'Fast_d_10day', u'PROC_12day',\n",
    "            u'PROC_13day', u'PROC_14day', u'PROC_15day', u'Weighted_Close_Price', u'WILLIAM_A_D', u'ADOSC_1day',\n",
    "            u'ADOSC_2day', u'ADOSC_3day', u'ADOSC_4day', u'ADOSC_5day', u'EMA_12Day', u'EMA_26Day', u'MACD', \n",
    "            u'CCI', u'BOLLINGER_BANDS_LOW', u'BOLLINGER_BANDS_HIGH', u'HEIKIN_ASHI_XCLOSE', u'HEIKIN_ASHI_XOPEN', \n",
    "            u'HEIKIN_ASHI_XHIGH', u'HEIKIN_ASHI_XLOW', u'2DAY_HIGH', u'2DAY_LOW', u'1DAY_HIGH_LOW_AVG', \n",
    "            u'2DAY_HIGH_LOW_AVG', u'High_slope_3day', u'High_slope_4day', u'High_slope_5day', u'High_slope_8day',\n",
    "            u'High_slope_10day', u'High_slope_12day', u'High_slope_15day', u'High_slope_20day', u'High_slope_25day', \n",
    "            u'High_slope_30day', u'Pips',  u'Volume', u'Active Hour', u'Active Hour Volume']\n",
    "\n",
    "label = [u'Prediction_action']\n",
    "\n",
    "#Create model with model_csv and do use the model to predict the data inside predict_csv\n",
    "def predict_trade_action(model_csv,predict_csv):\n",
    "    \n",
    "    df_model_h2o = h2o.import_frame(path = h2o.locate(model_csv))\n",
    "    df_predict_h2o = h2o.import_frame(path = h2o.locate(predict_csv))\n",
    "    model_gbm = h2o.gbm(\n",
    "               y=  df_model_h2o[label],\n",
    "               x = df_model_h2o[features],\n",
    "               balance_classes=True,\n",
    "               ntrees         =50,\n",
    "               max_depth      =5,\n",
    "               distribution   =\"bernoulli\",\n",
    "               learn_rate     =0.1)\n",
    "    predict_results = model_gbm.predict(df_predict_h2o[features])\n",
    "    return predict_results.as_data_frame()\n",
    "\n",
    "current_date_str = '2015-01-01'\n",
    "date_str_list = get_date_str_for_modeling(current_date_str)\n",
    "print(date_str_list)\n",
    "write_sample_data_to_csv(all_data_df,date_str_list[0],'./tmp_model.csv',date_str_list[1],'./tmp_predict.csv')\n",
    "df_predict_results = predict_trade_action('tmp_model.csv','tmp_predict.csv')"
   ]
  },
  {
   "cell_type": "code",
   "execution_count": 27,
   "metadata": {
    "collapsed": false
   },
   "outputs": [
    {
     "data": {
      "text/html": [
       "<div style=\"max-height:1000px;max-width:1500px;overflow:auto;\">\n",
       "<table border=\"1\" class=\"dataframe\">\n",
       "  <thead>\n",
       "    <tr style=\"text-align: right;\">\n",
       "      <th></th>\n",
       "      <th>predict</th>\n",
       "      <th>buy</th>\n",
       "      <th>sell</th>\n",
       "    </tr>\n",
       "  </thead>\n",
       "  <tbody>\n",
       "    <tr>\n",
       "      <th>0</th>\n",
       "      <td> sell</td>\n",
       "      <td> 0.20363</td>\n",
       "      <td> 0.79637</td>\n",
       "    </tr>\n",
       "  </tbody>\n",
       "</table>\n",
       "</div>"
      ],
      "text/plain": [
       "  predict      buy     sell\n",
       "0    sell  0.20363  0.79637"
      ]
     },
     "execution_count": 27,
     "metadata": {},
     "output_type": "execute_result"
    }
   ],
   "source": [
    "df_predict_results"
   ]
  },
  {
   "cell_type": "code",
   "execution_count": null,
   "metadata": {
    "collapsed": true
   },
   "outputs": [],
   "source": []
  }
 ],
 "metadata": {
  "kernelspec": {
   "display_name": "Python 2",
   "language": "python",
   "name": "python2"
  },
  "language_info": {
   "codemirror_mode": {
    "name": "ipython",
    "version": 2
   },
   "file_extension": ".py",
   "mimetype": "text/x-python",
   "name": "python",
   "nbconvert_exporter": "python",
   "pygments_lexer": "ipython2",
   "version": "2.7.9"
  }
 },
 "nbformat": 4,
 "nbformat_minor": 0
}
