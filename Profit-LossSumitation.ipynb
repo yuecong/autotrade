{
 "cells": [
  {
   "cell_type": "markdown",
   "metadata": {},
   "source": [
    "# Profit Loss simulation with real sell/buy/hold"
   ]
  },
  {
   "cell_type": "code",
   "execution_count": 1,
   "metadata": {
    "collapsed": true
   },
   "outputs": [],
   "source": [
    "#Import necessary libraries\n",
    "import h2o\n",
    "import pandas as pd\n",
    "import matplotlib\n",
    "import numpy as np\n",
    "import matplotlib.pyplot as plt\n",
    "from datetime import datetime\n",
    "%matplotlib inline "
   ]
  },
  {
   "cell_type": "code",
   "execution_count": 2,
   "metadata": {
    "collapsed": false
   },
   "outputs": [
    {
     "data": {
      "text/plain": [
       "Index([u'Date', u'Currency_pair', u'Prediction_action', u'Day Open',\n",
       "       u'Day Close', u'Day High', u'Day Low', u'Day Average', u'Momentum_3day',\n",
       "       u'Momentum_4day', u'Momentum_5day', u'Momentum_8day', u'Momentum_9day',\n",
       "       u'Momentum_10day', u'Roc_3day', u'Roc_4day', u'Roc_5day', u'Roc_8day',\n",
       "       u'Roc_9day', u'Roc_10day', u'Fast_k_3day', u'Fast_d_3day',\n",
       "       u'Fast_k_4day', u'Fast_d_4day', u'Fast_k_5day', u'Fast_d_5day',\n",
       "       u'Fast_k_8day', u'Fast_d_8day', u'Fast_k_9day', u'Fast_d_9day',\n",
       "       u'Fast_k_10day', u'Fast_d_10day', u'PROC_12day', u'PROC_13day',\n",
       "       u'PROC_14day', u'PROC_15day', u'Weighted_Close_Price', u'WILLIAM_A_D',\n",
       "       u'ADOSC_1day', u'ADOSC_2day', u'ADOSC_3day', u'ADOSC_4day',\n",
       "       u'ADOSC_5day', u'EMA_12Day', u'EMA_26Day', u'MACD', u'CCI',\n",
       "       u'BOLLINGER_BANDS_LOW', u'BOLLINGER_BANDS_HIGH', u'HEIKIN_ASHI_XCLOSE',\n",
       "       u'HEIKIN_ASHI_XOPEN', u'HEIKIN_ASHI_XHIGH', u'HEIKIN_ASHI_XLOW',\n",
       "       u'2DAY_HIGH', u'2DAY_LOW', u'1DAY_HIGH_LOW_AVG', u'2DAY_HIGH_LOW_AVG',\n",
       "       u'High_slope_3day', u'High_slope_4day', u'High_slope_5day',\n",
       "       u'High_slope_8day', u'High_slope_10day', u'High_slope_12day',\n",
       "       u'High_slope_15day', u'High_slope_20day', u'High_slope_25day',\n",
       "       u'High_slope_30day', u'Pips', u'Prediction_Pips', u'Volume',\n",
       "       u'Active Hour', u'Active Hour Volume'],\n",
       "      dtype='object')"
      ]
     },
     "execution_count": 2,
     "metadata": {},
     "output_type": "execute_result"
    }
   ],
   "source": [
    "# Read all data into memory\n",
    "all_data_df = pd.read_csv(\"./price_EUR_USD_D1_merge.csv\")\n",
    "all_data_df.columns"
   ]
  },
  {
   "cell_type": "code",
   "execution_count": 3,
   "metadata": {
    "collapsed": false
   },
   "outputs": [
    {
     "data": {
      "text/html": [
       "<div>\n",
       "<table border=\"1\" class=\"dataframe\">\n",
       "  <thead>\n",
       "    <tr style=\"text-align: right;\">\n",
       "      <th></th>\n",
       "      <th>Date</th>\n",
       "      <th>Currency_pair</th>\n",
       "      <th>Prediction_action</th>\n",
       "      <th>Day Open</th>\n",
       "      <th>Day Close</th>\n",
       "      <th>Day High</th>\n",
       "      <th>Day Low</th>\n",
       "      <th>Day Average</th>\n",
       "      <th>Momentum_3day</th>\n",
       "      <th>Momentum_4day</th>\n",
       "      <th>...</th>\n",
       "      <th>High_slope_12day</th>\n",
       "      <th>High_slope_15day</th>\n",
       "      <th>High_slope_20day</th>\n",
       "      <th>High_slope_25day</th>\n",
       "      <th>High_slope_30day</th>\n",
       "      <th>Pips</th>\n",
       "      <th>Prediction_Pips</th>\n",
       "      <th>Volume</th>\n",
       "      <th>Active Hour</th>\n",
       "      <th>Active Hour Volume</th>\n",
       "    </tr>\n",
       "  </thead>\n",
       "  <tbody>\n",
       "    <tr>\n",
       "      <th>0</th>\n",
       "      <td>2005-01-02</td>\n",
       "      <td>EUR_USD</td>\n",
       "      <td>sell</td>\n",
       "      <td>1.35600</td>\n",
       "      <td>1.35795</td>\n",
       "      <td>1.35795</td>\n",
       "      <td>1.35410</td>\n",
       "      <td>1.35675</td>\n",
       "      <td>0.00000</td>\n",
       "      <td>0</td>\n",
       "      <td>...</td>\n",
       "      <td>0.0000</td>\n",
       "      <td>0.0000</td>\n",
       "      <td>0.0000</td>\n",
       "      <td>0.0000</td>\n",
       "      <td>0.0000</td>\n",
       "      <td>0.0</td>\n",
       "      <td>-78.5</td>\n",
       "      <td>901</td>\n",
       "      <td>23</td>\n",
       "      <td>468</td>\n",
       "    </tr>\n",
       "    <tr>\n",
       "      <th>1</th>\n",
       "      <td>2005-01-03</td>\n",
       "      <td>EUR_USD</td>\n",
       "      <td>sell</td>\n",
       "      <td>1.35815</td>\n",
       "      <td>1.34670</td>\n",
       "      <td>1.35815</td>\n",
       "      <td>1.33855</td>\n",
       "      <td>1.34890</td>\n",
       "      <td>0.00000</td>\n",
       "      <td>0</td>\n",
       "      <td>...</td>\n",
       "      <td>0.1000</td>\n",
       "      <td>0.1000</td>\n",
       "      <td>0.1000</td>\n",
       "      <td>0.1000</td>\n",
       "      <td>0.1000</td>\n",
       "      <td>-78.5</td>\n",
       "      <td>-132.9</td>\n",
       "      <td>37967</td>\n",
       "      <td>14</td>\n",
       "      <td>2817</td>\n",
       "    </tr>\n",
       "    <tr>\n",
       "      <th>2</th>\n",
       "      <td>2005-01-04</td>\n",
       "      <td>EUR_USD</td>\n",
       "      <td>sell</td>\n",
       "      <td>1.34680</td>\n",
       "      <td>1.32820</td>\n",
       "      <td>1.34960</td>\n",
       "      <td>1.32488</td>\n",
       "      <td>1.33562</td>\n",
       "      <td>0.00000</td>\n",
       "      <td>0</td>\n",
       "      <td>...</td>\n",
       "      <td>-2.7833</td>\n",
       "      <td>-2.7833</td>\n",
       "      <td>-2.7833</td>\n",
       "      <td>-2.7833</td>\n",
       "      <td>-2.7833</td>\n",
       "      <td>-132.9</td>\n",
       "      <td>-95.1</td>\n",
       "      <td>42391</td>\n",
       "      <td>14</td>\n",
       "      <td>3162</td>\n",
       "    </tr>\n",
       "    <tr>\n",
       "      <th>3</th>\n",
       "      <td>2005-01-05</td>\n",
       "      <td>EUR_USD</td>\n",
       "      <td>sell</td>\n",
       "      <td>1.32810</td>\n",
       "      <td>1.32770</td>\n",
       "      <td>1.33027</td>\n",
       "      <td>1.32153</td>\n",
       "      <td>1.32611</td>\n",
       "      <td>-0.03025</td>\n",
       "      <td>0</td>\n",
       "      <td>...</td>\n",
       "      <td>-6.9188</td>\n",
       "      <td>-6.9188</td>\n",
       "      <td>-6.9188</td>\n",
       "      <td>-6.9188</td>\n",
       "      <td>-6.9188</td>\n",
       "      <td>-95.1</td>\n",
       "      <td>-68.7</td>\n",
       "      <td>40162</td>\n",
       "      <td>13</td>\n",
       "      <td>3018</td>\n",
       "    </tr>\n",
       "  </tbody>\n",
       "</table>\n",
       "<p>4 rows × 72 columns</p>\n",
       "</div>"
      ],
      "text/plain": [
       "         Date Currency_pair Prediction_action  Day Open  Day Close  Day High  \\\n",
       "0  2005-01-02       EUR_USD              sell   1.35600    1.35795   1.35795   \n",
       "1  2005-01-03       EUR_USD              sell   1.35815    1.34670   1.35815   \n",
       "2  2005-01-04       EUR_USD              sell   1.34680    1.32820   1.34960   \n",
       "3  2005-01-05       EUR_USD              sell   1.32810    1.32770   1.33027   \n",
       "\n",
       "   Day Low  Day Average  Momentum_3day  Momentum_4day         ...          \\\n",
       "0  1.35410      1.35675        0.00000              0         ...           \n",
       "1  1.33855      1.34890        0.00000              0         ...           \n",
       "2  1.32488      1.33562        0.00000              0         ...           \n",
       "3  1.32153      1.32611       -0.03025              0         ...           \n",
       "\n",
       "   High_slope_12day  High_slope_15day  High_slope_20day  High_slope_25day  \\\n",
       "0            0.0000            0.0000            0.0000            0.0000   \n",
       "1            0.1000            0.1000            0.1000            0.1000   \n",
       "2           -2.7833           -2.7833           -2.7833           -2.7833   \n",
       "3           -6.9188           -6.9188           -6.9188           -6.9188   \n",
       "\n",
       "   High_slope_30day   Pips  Prediction_Pips  Volume  Active Hour  \\\n",
       "0            0.0000    0.0            -78.5     901           23   \n",
       "1            0.1000  -78.5           -132.9   37967           14   \n",
       "2           -2.7833 -132.9            -95.1   42391           14   \n",
       "3           -6.9188  -95.1            -68.7   40162           13   \n",
       "\n",
       "   Active Hour Volume  \n",
       "0                 468  \n",
       "1                2817  \n",
       "2                3162  \n",
       "3                3018  \n",
       "\n",
       "[4 rows x 72 columns]"
      ]
     },
     "execution_count": 3,
     "metadata": {},
     "output_type": "execute_result"
    }
   ],
   "source": [
    "all_data_df[all_data_df.Date < '2005-01-06'] "
   ]
  },
  {
   "cell_type": "code",
   "execution_count": 4,
   "metadata": {
    "collapsed": false
   },
   "outputs": [],
   "source": [
    "#sampling date and write to a temprary csv\n",
    "def write_sample_data_to_csv(df,date_str,out_csv_file):\n",
    "    new_df = df[df.Date <= date_str]\n",
    "    new_df.to_csv(out_csv_file,index = False )\n",
    "\n",
    "write_sample_data_to_csv(all_data_df,'2005-01-06','./tmp.csv')"
   ]
  },
  {
   "cell_type": "code",
   "execution_count": 16,
   "metadata": {
    "collapsed": false
   },
   "outputs": [
    {
     "data": {
      "text/plain": [
       "'2012-01-01'"
      ]
     },
     "execution_count": 16,
     "metadata": {},
     "output_type": "execute_result"
    }
   ],
   "source": [
    "datetime(2012,10,1).strftime ('%Y-%m-%d')\n",
    "a=pd.date_range('2012-1-1', periods=10, freq='D')\n",
    "a[0].strftime ('%Y-%m-%d')"
   ]
  },
  {
   "cell_type": "code",
   "execution_count": null,
   "metadata": {
    "collapsed": true
   },
   "outputs": [],
   "source": []
  }
 ],
 "metadata": {
  "kernelspec": {
   "display_name": "Python 2",
   "language": "python",
   "name": "python2"
  },
  "language_info": {
   "codemirror_mode": {
    "name": "ipython",
    "version": 2
   },
   "file_extension": ".py",
   "mimetype": "text/x-python",
   "name": "python",
   "nbconvert_exporter": "python",
   "pygments_lexer": "ipython2",
   "version": "2.7.6"
  }
 },
 "nbformat": 4,
 "nbformat_minor": 0
}
