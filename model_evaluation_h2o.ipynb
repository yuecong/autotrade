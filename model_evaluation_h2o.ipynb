{
 "cells": [
  {
   "cell_type": "code",
   "execution_count": 1,
   "metadata": {
    "collapsed": true
   },
   "outputs": [],
   "source": [
    "import h2o"
   ]
  },
  {
   "cell_type": "code",
   "execution_count": 2,
   "metadata": {
    "collapsed": false
   },
   "outputs": [
    {
     "data": {
      "text/plain": [
       "'3.0.1.3'"
      ]
     },
     "execution_count": 2,
     "metadata": {},
     "output_type": "execute_result"
    }
   ],
   "source": [
    "h2o.__version__"
   ]
  },
  {
   "cell_type": "code",
   "execution_count": 3,
   "metadata": {
    "collapsed": true
   },
   "outputs": [],
   "source": [
    "import pandas as pd\n",
    "import matplotlib\n",
    "import numpy as np\n",
    "import matplotlib.pyplot as plt\n",
    "%matplotlib inline "
   ]
  },
  {
   "cell_type": "code",
   "execution_count": null,
   "metadata": {
    "collapsed": false
   },
   "outputs": [
    {
     "data": {
      "text/plain": [
       "Index([u'Currency_pair', u'Prediction_action', u'Day Open', u'Day Close', u'Day High', u'Day Low', u'Day Average', u'Momentum_3day', u'Momentum_4day', u'Momentum_5day', u'Momentum_8day', u'Momentum_9day', u'Momentum_10day', u'Roc_3day', u'Roc_4day', u'Roc_5day', u'Roc_8day', u'Roc_9day', u'Roc_10day', u'Fast_k_3day', u'Fast_d_3day', u'Fast_k_4day', u'Fast_d_4day', u'Fast_k_5day', u'Fast_d_5day', u'Fast_k_8day', u'Fast_d_8day', u'Fast_k_9day', u'Fast_d_9day', u'Fast_k_10day', u'Fast_d_10day', u'PROC_12day', u'PROC_13day', u'PROC_14day', u'PROC_15day', u'Weighted_Close_Price', u'WILLIAM_A_D', u'ADOSC_1day', u'ADOSC_2day', u'ADOSC_3day', u'ADOSC_4day', u'ADOSC_5day', u'EMA_12Day', u'EMA_26Day', u'MACD', u'CCI', u'BOLLINGER_BANDS_LOW', u'BOLLINGER_BANDS_HIGH', u'HEIKIN_ASHI_XCLOSE', u'HEIKIN_ASHI_XOPEN', u'HEIKIN_ASHI_XHIGH', u'HEIKIN_ASHI_XLOW', u'2DAY_HIGH', u'2DAY_LOW', u'1DAY_HIGH_LOW_AVG', u'2DAY_HIGH_LOW_AVG', u'High_slope_3day', u'High_slope_4day', u'High_slope_5day', u'High_slope_8day', u'High_slope_10day', u'High_slope_12day', u'High_slope_15day', u'High_slope_20day', u'High_slope_25day', u'High_slope_30day', u'Pips', u'Prediction_Pips', u'Volume', u'Active Hour', u'Active Hour Volume'], dtype='object')"
      ]
     },
     "execution_count": 4,
     "metadata": {},
     "output_type": "execute_result"
    }
   ],
   "source": [
    "df_eur_usd = pd.read_csv(\"price_EUR_USD_D1_merge.csv\", header=0, index_col=0)\n",
    "df_eur_usd.columns"
   ]
  },
  {
   "cell_type": "code",
   "execution_count": null,
   "metadata": {
    "collapsed": false
   },
   "outputs": [
    {
     "name": "stdout",
     "output_type": "stream",
     "text": [
      "\n",
      "\n",
      "No instance found at ip and port: localhost:54321. Trying to start local jar...\n",
      "\n",
      "\n",
      "JVM stdout: /tmp/tmpiGJEKK/h2o_cyue_started_from_python.out\n",
      "JVM stderr: /tmp/tmpTFV2OD/h2o_cyue_started_from_python.err\n",
      "Using ice_root: /tmp/tmpgwU2NW\n",
      "\n",
      "\n",
      "Java Version: java version \"1.7.0_75\"\n",
      "OpenJDK Runtime Environment (IcedTea 2.5.4) (7u75-2.5.4-1~trusty1)\n",
      "OpenJDK 64-Bit Server VM (build 24.75-b04, mixed mode)\n",
      "\n",
      "\n",
      "Starting H2O JVM and connecting: ....."
     ]
    }
   ],
   "source": [
    "#df_eur_usd_h2o = h2o.import_frame(df_eur_usd)\n",
    "h2o.init()\n",
    "df_eur_usd_h2o = h2o.import_frame(path=\"./price_EUR_USD_D1_merge.csv\")"
   ]
  },
  {
   "cell_type": "code",
   "execution_count": null,
   "metadata": {
    "collapsed": false
   },
   "outputs": [],
   "source": [
    "df_eur_usd_h2o.describe()"
   ]
  },
  {
   "cell_type": "code",
   "execution_count": null,
   "metadata": {
    "collapsed": false
   },
   "outputs": [],
   "source": [
    "r = df_eur_usd_h2o[0].runif()\n",
    "df_eur_usd_h2o_train = df_eur_usd_h2o[r<0.8]\n",
    "df_eur_usd_h2o_valid = df_eur_usd_h2o[r>=0.8]"
   ]
  },
  {
   "cell_type": "code",
   "execution_count": null,
   "metadata": {
    "collapsed": true
   },
   "outputs": [],
   "source": [
    "features = [ u'Day Open', u'Day Close', u'Day High', u'Day Low', u'Day Average', u'Momentum_3day', u'Momentum_4day',\n",
    "            u'Momentum_5day', u'Momentum_8day', u'Momentum_9day', u'Momentum_10day',\n",
    "            u'Roc_3day', u'Roc_4day', u'Roc_5day', u'Roc_8day', u'Roc_9day', u'Roc_10day', u'Fast_k_3day', \n",
    "            u'Fast_d_3day', u'Fast_k_4day', u'Fast_d_4day', u'Fast_k_5day', u'Fast_d_5day', u'Fast_k_8day', \n",
    "            u'Fast_d_8day', u'Fast_k_9day', u'Fast_d_9day', u'Fast_k_10day', u'Fast_d_10day', u'PROC_12day',\n",
    "            u'PROC_13day', u'PROC_14day', u'PROC_15day', u'Weighted_Close_Price', u'WILLIAM_A_D', u'ADOSC_1day',\n",
    "            u'ADOSC_2day', u'ADOSC_3day', u'ADOSC_4day', u'ADOSC_5day', u'EMA_12Day', u'EMA_26Day', u'MACD', \n",
    "            u'CCI', u'BOLLINGER_BANDS_LOW', u'BOLLINGER_BANDS_HIGH', u'HEIKIN_ASHI_XCLOSE', u'HEIKIN_ASHI_XOPEN', \n",
    "            u'HEIKIN_ASHI_XHIGH', u'HEIKIN_ASHI_XLOW', u'2DAY_HIGH', u'2DAY_LOW', u'1DAY_HIGH_LOW_AVG', \n",
    "            u'2DAY_HIGH_LOW_AVG', u'High_slope_3day', u'High_slope_4day', u'High_slope_5day', u'High_slope_8day',\n",
    "            u'High_slope_10day', u'High_slope_12day', u'High_slope_15day', u'High_slope_20day', u'High_slope_25day', \n",
    "            u'High_slope_30day', u'Pips',  u'Volume', u'Active Hour', u'Active Hour Volume']\n",
    "label = [u'Prediction_action']\n"
   ]
  },
  {
   "cell_type": "code",
   "execution_count": null,
   "metadata": {
    "collapsed": false
   },
   "outputs": [],
   "source": [
    "model_gbm = h2o.gbm(\n",
    "               y=  df_eur_usd_h2o_train[label],\n",
    "    validation_y = df_eur_usd_h2o_valid[label],\n",
    "               x = df_eur_usd_h2o_train[features],\n",
    "    validation_x = df_eur_usd_h2o_valid[features],\n",
    "    #distribution = \"bernoulli\",\n",
    "    ntrees=50,\n",
    "    learn_rate=0.2)\n"
   ]
  },
  {
   "cell_type": "code",
   "execution_count": null,
   "metadata": {
    "collapsed": false
   },
   "outputs": [],
   "source": [
    "train_metrics_gbm = model_gbm.model_performance(df_eur_usd_h2o_train)\n",
    "train_metrics_gbm.show()"
   ]
  },
  {
   "cell_type": "code",
   "execution_count": null,
   "metadata": {
    "collapsed": false
   },
   "outputs": [],
   "source": [
    "val_metrics_gbm = model_gbm.model_performance(df_eur_usd_h2o_valid)\n",
    "val_metrics_gbm.show()"
   ]
  },
  {
   "cell_type": "code",
   "execution_count": null,
   "metadata": {
    "collapsed": true
   },
   "outputs": [],
   "source": []
  }
 ],
 "metadata": {
  "kernelspec": {
   "display_name": "Python 2",
   "language": "python",
   "name": "python2"
  },
  "language_info": {
   "codemirror_mode": {
    "name": "ipython",
    "version": 2
   },
   "file_extension": ".py",
   "mimetype": "text/x-python",
   "name": "python",
   "nbconvert_exporter": "python",
   "pygments_lexer": "ipython2",
   "version": "2.7.9"
  }
 },
 "nbformat": 4,
 "nbformat_minor": 0
}
