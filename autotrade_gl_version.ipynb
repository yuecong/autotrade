{
 "cells": [
  {
   "cell_type": "code",
   "execution_count": 1,
   "metadata": {
    "collapsed": true
   },
   "outputs": [],
   "source": [
    "import graphlab as gl"
   ]
  },
  {
   "cell_type": "code",
   "execution_count": 2,
   "metadata": {
    "collapsed": false
   },
   "outputs": [
    {
     "name": "stderr",
     "output_type": "stream",
     "text": [
      "[INFO] This non-commercial license of GraphLab Create is assigned to yuecong1104@gmail.comand will expire on August 13, 2016. For commercial licensing options, visit https://dato.com/buy/.\n",
      "\n",
      "[INFO] Start server at: ipc:///tmp/graphlab_server-3700 - Server binary: /Library/Python/2.7/site-packages/graphlab/unity_server - Server log: /tmp/graphlab_server_1439712069.log\n",
      "[INFO] GraphLab Server Version: 1.5.2\n"
     ]
    },
    {
     "name": "stdout",
     "output_type": "stream",
     "text": [
      "PROGRESS: Finished parsing file /Users/yuecong/autotrade/price_EUR_USD_2002-01-01T00%3A00%3A00Z_H1.csv\n",
      "PROGRESS: Read 100 lines. Lines per second: 406.395\n",
      "PROGRESS: Finished parsing file /Users/yuecong/autotrade/price_EUR_USD_2002-07-01T00%3A00%3A00Z_H1.csv\n",
      "PROGRESS: Parsing completed. Parsed 100 lines in 0.246454 secs.\n",
      "------------------------------------------------------\n",
      "Inferred types from first line of file as \n",
      "column_type_hints=[int,int,int,int,int,int,float,float,float,float,float,float,float,float,int,str]\n",
      "If parsing fails due to incorrect types, you can correct\n",
      "the inferred type list above and pass it to read_csv in\n",
      "the column_type_hints argument\n",
      "------------------------------------------------------\n",
      "PROGRESS: Finished parsing file /Users/yuecong/autotrade/price_EUR_USD_2002-01-01T00%3A00%3A00Z_H1.csv\n",
      "PROGRESS: Finished parsing file /Users/yuecong/autotrade/price_EUR_USD_2002-07-01T00%3A00%3A00Z_H1.csv\n",
      "PROGRESS: Finished parsing file /Users/yuecong/autotrade/price_EUR_USD_2003-01-01T00%3A00%3A00Z_H1.csv\n",
      "PROGRESS: Finished parsing file /Users/yuecong/autotrade/price_EUR_USD_2003-07-01T00%3A00%3A00Z_H1.csv\n",
      "PROGRESS: Finished parsing file /Users/yuecong/autotrade/price_EUR_USD_2004-01-01T00%3A00%3A00Z_H1.csv\n",
      "PROGRESS: Finished parsing file /Users/yuecong/autotrade/price_EUR_USD_2004-07-01T00%3A00%3A00Z_H1.csv\n",
      "PROGRESS: Finished parsing file /Users/yuecong/autotrade/price_EUR_USD_2005-01-01T00%3A00%3A00Z_H1.csv\n",
      "PROGRESS: Finished parsing file /Users/yuecong/autotrade/price_EUR_USD_2005-07-01T00%3A00%3A00Z_H1.csv\n",
      "PROGRESS: Finished parsing file /Users/yuecong/autotrade/price_EUR_USD_2006-01-01T00%3A00%3A00Z_H1.csv\n",
      "PROGRESS: Finished parsing file /Users/yuecong/autotrade/price_EUR_USD_2006-07-01T00%3A00%3A00Z_H1.csv\n",
      "PROGRESS: Finished parsing file /Users/yuecong/autotrade/price_EUR_USD_2007-01-01T00%3A00%3A00Z_H1.csv\n",
      "PROGRESS: Finished parsing file /Users/yuecong/autotrade/price_EUR_USD_2007-07-01T00%3A00%3A00Z_H1.csv\n",
      "PROGRESS: Finished parsing file /Users/yuecong/autotrade/price_EUR_USD_2008-01-01T00%3A00%3A00Z_H1.csv\n",
      "PROGRESS: Finished parsing file /Users/yuecong/autotrade/price_EUR_USD_2008-07-01T00%3A00%3A00Z_H1.csv\n",
      "PROGRESS: Finished parsing file /Users/yuecong/autotrade/price_EUR_USD_2009-01-01T00%3A00%3A00Z_H1.csv\n",
      "PROGRESS: Finished parsing file /Users/yuecong/autotrade/price_EUR_USD_2009-07-01T00%3A00%3A00Z_H1.csv\n",
      "PROGRESS: Finished parsing file /Users/yuecong/autotrade/price_EUR_USD_2010-01-01T00%3A00%3A00Z_H1.csv\n",
      "PROGRESS: Finished parsing file /Users/yuecong/autotrade/price_EUR_USD_2010-07-01T00%3A00%3A00Z_H1.csv\n",
      "PROGRESS: Finished parsing file /Users/yuecong/autotrade/price_EUR_USD_2011-01-01T00%3A00%3A00Z_H1.csv\n",
      "PROGRESS: Finished parsing file /Users/yuecong/autotrade/price_EUR_USD_2011-07-01T00%3A00%3A00Z_H1.csv\n",
      "PROGRESS: Finished parsing file /Users/yuecong/autotrade/price_EUR_USD_2012-01-01T00%3A00%3A00Z_H1.csv\n",
      "PROGRESS: Finished parsing file /Users/yuecong/autotrade/price_EUR_USD_2012-07-01T00%3A00%3A00Z_H1.csv\n",
      "PROGRESS: Finished parsing file /Users/yuecong/autotrade/price_EUR_USD_2013-01-01T00%3A00%3A00Z_H1.csv\n",
      "PROGRESS: Finished parsing file /Users/yuecong/autotrade/price_EUR_USD_2013-07-01T00%3A00%3A00Z_H1.csv\n",
      "PROGRESS: Finished parsing file /Users/yuecong/autotrade/price_EUR_USD_2014-01-01T00%3A00%3A00Z_H1.csv\n",
      "PROGRESS: Finished parsing file /Users/yuecong/autotrade/price_EUR_USD_2014-07-01T00%3A00%3A00Z_H1.csv\n",
      "PROGRESS: Finished parsing file /Users/yuecong/autotrade/price_EUR_USD_2015-01-01T00%3A00%3A00Z_H1.csv\n",
      "PROGRESS: Finished parsing file /Users/yuecong/autotrade/price_EUR_USD_2015-07-01T00%3A00%3A00Z_H1.csv\n",
      "PROGRESS: Parsing completed. Parsed 69296 lines in 1.81598 secs.\n"
     ]
    }
   ],
   "source": [
    "filename = \"./price_EUR_USD_*H1.csv\"\n",
    "sf_eur_usd_h1 = gl.SFrame.read_csv(filename)"
   ]
  },
  {
   "cell_type": "code",
   "execution_count": 3,
   "metadata": {
    "collapsed": false
   },
   "outputs": [],
   "source": [
    "#sf_eur_usd_h1.show()"
   ]
  },
  {
   "cell_type": "code",
   "execution_count": null,
   "metadata": {
    "collapsed": false
   },
   "outputs": [
    {
     "data": {
      "text/html": [
       "<div style=\"max-height:1000px;max-width:1500px;overflow:auto;\"><table frame=\"box\" rules=\"cols\">\n",
       "    <tr>\n",
       "        <th style=\"padding-left: 1em; padding-right: 1em; text-align: center\">year</th>\n",
       "        <th style=\"padding-left: 1em; padding-right: 1em; text-align: center\">month</th>\n",
       "        <th style=\"padding-left: 1em; padding-right: 1em; text-align: center\">day</th>\n",
       "        <th style=\"padding-left: 1em; padding-right: 1em; text-align: center\">hour</th>\n",
       "        <th style=\"padding-left: 1em; padding-right: 1em; text-align: center\">minute</th>\n",
       "        <th style=\"padding-left: 1em; padding-right: 1em; text-align: center\">second</th>\n",
       "        <th style=\"padding-left: 1em; padding-right: 1em; text-align: center\">volume</th>\n",
       "        <th style=\"padding-left: 1em; padding-right: 1em; text-align: center\">date</th>\n",
       "        <th style=\"padding-left: 1em; padding-right: 1em; text-align: center\">open</th>\n",
       "        <th style=\"padding-left: 1em; padding-right: 1em; text-align: center\">high</th>\n",
       "        <th style=\"padding-left: 1em; padding-right: 1em; text-align: center\">low</th>\n",
       "        <th style=\"padding-left: 1em; padding-right: 1em; text-align: center\">close</th>\n",
       "    </tr>\n",
       "    <tr>\n",
       "        <td style=\"padding-left: 1em; padding-right: 1em; text-align: center; vertical-align: top\">2002</td>\n",
       "        <td style=\"padding-left: 1em; padding-right: 1em; text-align: center; vertical-align: top\">5</td>\n",
       "        <td style=\"padding-left: 1em; padding-right: 1em; text-align: center; vertical-align: top\">6</td>\n",
       "        <td style=\"padding-left: 1em; padding-right: 1em; text-align: center; vertical-align: top\">20</td>\n",
       "        <td style=\"padding-left: 1em; padding-right: 1em; text-align: center; vertical-align: top\">0</td>\n",
       "        <td style=\"padding-left: 1em; padding-right: 1em; text-align: center; vertical-align: top\">0</td>\n",
       "        <td style=\"padding-left: 1em; padding-right: 1em; text-align: center; vertical-align: top\">1</td>\n",
       "        <td style=\"padding-left: 1em; padding-right: 1em; text-align: center; vertical-align: top\">2002-5-6</td>\n",
       "        <td style=\"padding-left: 1em; padding-right: 1em; text-align: center; vertical-align: top\">0.91825</td>\n",
       "        <td style=\"padding-left: 1em; padding-right: 1em; text-align: center; vertical-align: top\">0.91825</td>\n",
       "        <td style=\"padding-left: 1em; padding-right: 1em; text-align: center; vertical-align: top\">0.91825</td>\n",
       "        <td style=\"padding-left: 1em; padding-right: 1em; text-align: center; vertical-align: top\">0.91825</td>\n",
       "    </tr>\n",
       "    <tr>\n",
       "        <td style=\"padding-left: 1em; padding-right: 1em; text-align: center; vertical-align: top\">2002</td>\n",
       "        <td style=\"padding-left: 1em; padding-right: 1em; text-align: center; vertical-align: top\">5</td>\n",
       "        <td style=\"padding-left: 1em; padding-right: 1em; text-align: center; vertical-align: top\">7</td>\n",
       "        <td style=\"padding-left: 1em; padding-right: 1em; text-align: center; vertical-align: top\">20</td>\n",
       "        <td style=\"padding-left: 1em; padding-right: 1em; text-align: center; vertical-align: top\">0</td>\n",
       "        <td style=\"padding-left: 1em; padding-right: 1em; text-align: center; vertical-align: top\">0</td>\n",
       "        <td style=\"padding-left: 1em; padding-right: 1em; text-align: center; vertical-align: top\">1</td>\n",
       "        <td style=\"padding-left: 1em; padding-right: 1em; text-align: center; vertical-align: top\">2002-5-7</td>\n",
       "        <td style=\"padding-left: 1em; padding-right: 1em; text-align: center; vertical-align: top\">0.91535</td>\n",
       "        <td style=\"padding-left: 1em; padding-right: 1em; text-align: center; vertical-align: top\">0.91535</td>\n",
       "        <td style=\"padding-left: 1em; padding-right: 1em; text-align: center; vertical-align: top\">0.91535</td>\n",
       "        <td style=\"padding-left: 1em; padding-right: 1em; text-align: center; vertical-align: top\">0.91535</td>\n",
       "    </tr>\n",
       "    <tr>\n",
       "        <td style=\"padding-left: 1em; padding-right: 1em; text-align: center; vertical-align: top\">2002</td>\n",
       "        <td style=\"padding-left: 1em; padding-right: 1em; text-align: center; vertical-align: top\">5</td>\n",
       "        <td style=\"padding-left: 1em; padding-right: 1em; text-align: center; vertical-align: top\">8</td>\n",
       "        <td style=\"padding-left: 1em; padding-right: 1em; text-align: center; vertical-align: top\">20</td>\n",
       "        <td style=\"padding-left: 1em; padding-right: 1em; text-align: center; vertical-align: top\">0</td>\n",
       "        <td style=\"padding-left: 1em; padding-right: 1em; text-align: center; vertical-align: top\">0</td>\n",
       "        <td style=\"padding-left: 1em; padding-right: 1em; text-align: center; vertical-align: top\">1</td>\n",
       "        <td style=\"padding-left: 1em; padding-right: 1em; text-align: center; vertical-align: top\">2002-5-8</td>\n",
       "        <td style=\"padding-left: 1em; padding-right: 1em; text-align: center; vertical-align: top\">0.90435</td>\n",
       "        <td style=\"padding-left: 1em; padding-right: 1em; text-align: center; vertical-align: top\">0.90435</td>\n",
       "        <td style=\"padding-left: 1em; padding-right: 1em; text-align: center; vertical-align: top\">0.90435</td>\n",
       "        <td style=\"padding-left: 1em; padding-right: 1em; text-align: center; vertical-align: top\">0.90435</td>\n",
       "    </tr>\n",
       "    <tr>\n",
       "        <td style=\"padding-left: 1em; padding-right: 1em; text-align: center; vertical-align: top\">2002</td>\n",
       "        <td style=\"padding-left: 1em; padding-right: 1em; text-align: center; vertical-align: top\">5</td>\n",
       "        <td style=\"padding-left: 1em; padding-right: 1em; text-align: center; vertical-align: top\">9</td>\n",
       "        <td style=\"padding-left: 1em; padding-right: 1em; text-align: center; vertical-align: top\">20</td>\n",
       "        <td style=\"padding-left: 1em; padding-right: 1em; text-align: center; vertical-align: top\">0</td>\n",
       "        <td style=\"padding-left: 1em; padding-right: 1em; text-align: center; vertical-align: top\">0</td>\n",
       "        <td style=\"padding-left: 1em; padding-right: 1em; text-align: center; vertical-align: top\">1</td>\n",
       "        <td style=\"padding-left: 1em; padding-right: 1em; text-align: center; vertical-align: top\">2002-5-9</td>\n",
       "        <td style=\"padding-left: 1em; padding-right: 1em; text-align: center; vertical-align: top\">0.90935</td>\n",
       "        <td style=\"padding-left: 1em; padding-right: 1em; text-align: center; vertical-align: top\">0.90935</td>\n",
       "        <td style=\"padding-left: 1em; padding-right: 1em; text-align: center; vertical-align: top\">0.90935</td>\n",
       "        <td style=\"padding-left: 1em; padding-right: 1em; text-align: center; vertical-align: top\">0.90935</td>\n",
       "    </tr>\n",
       "    <tr>\n",
       "        <td style=\"padding-left: 1em; padding-right: 1em; text-align: center; vertical-align: top\">2002</td>\n",
       "        <td style=\"padding-left: 1em; padding-right: 1em; text-align: center; vertical-align: top\">5</td>\n",
       "        <td style=\"padding-left: 1em; padding-right: 1em; text-align: center; vertical-align: top\">10</td>\n",
       "        <td style=\"padding-left: 1em; padding-right: 1em; text-align: center; vertical-align: top\">20</td>\n",
       "        <td style=\"padding-left: 1em; padding-right: 1em; text-align: center; vertical-align: top\">0</td>\n",
       "        <td style=\"padding-left: 1em; padding-right: 1em; text-align: center; vertical-align: top\">0</td>\n",
       "        <td style=\"padding-left: 1em; padding-right: 1em; text-align: center; vertical-align: top\">1</td>\n",
       "        <td style=\"padding-left: 1em; padding-right: 1em; text-align: center; vertical-align: top\">2002-5-10</td>\n",
       "        <td style=\"padding-left: 1em; padding-right: 1em; text-align: center; vertical-align: top\">0.914</td>\n",
       "        <td style=\"padding-left: 1em; padding-right: 1em; text-align: center; vertical-align: top\">0.914</td>\n",
       "        <td style=\"padding-left: 1em; padding-right: 1em; text-align: center; vertical-align: top\">0.914</td>\n",
       "        <td style=\"padding-left: 1em; padding-right: 1em; text-align: center; vertical-align: top\">0.914</td>\n",
       "    </tr>\n",
       "    <tr>\n",
       "        <td style=\"padding-left: 1em; padding-right: 1em; text-align: center; vertical-align: top\">2002</td>\n",
       "        <td style=\"padding-left: 1em; padding-right: 1em; text-align: center; vertical-align: top\">5</td>\n",
       "        <td style=\"padding-left: 1em; padding-right: 1em; text-align: center; vertical-align: top\">10</td>\n",
       "        <td style=\"padding-left: 1em; padding-right: 1em; text-align: center; vertical-align: top\">22</td>\n",
       "        <td style=\"padding-left: 1em; padding-right: 1em; text-align: center; vertical-align: top\">0</td>\n",
       "        <td style=\"padding-left: 1em; padding-right: 1em; text-align: center; vertical-align: top\">0</td>\n",
       "        <td style=\"padding-left: 1em; padding-right: 1em; text-align: center; vertical-align: top\">1</td>\n",
       "        <td style=\"padding-left: 1em; padding-right: 1em; text-align: center; vertical-align: top\">2002-5-10</td>\n",
       "        <td style=\"padding-left: 1em; padding-right: 1em; text-align: center; vertical-align: top\">0.9141</td>\n",
       "        <td style=\"padding-left: 1em; padding-right: 1em; text-align: center; vertical-align: top\">0.9141</td>\n",
       "        <td style=\"padding-left: 1em; padding-right: 1em; text-align: center; vertical-align: top\">0.9141</td>\n",
       "        <td style=\"padding-left: 1em; padding-right: 1em; text-align: center; vertical-align: top\">0.9141</td>\n",
       "    </tr>\n",
       "    <tr>\n",
       "        <td style=\"padding-left: 1em; padding-right: 1em; text-align: center; vertical-align: top\">2002</td>\n",
       "        <td style=\"padding-left: 1em; padding-right: 1em; text-align: center; vertical-align: top\">5</td>\n",
       "        <td style=\"padding-left: 1em; padding-right: 1em; text-align: center; vertical-align: top\">13</td>\n",
       "        <td style=\"padding-left: 1em; padding-right: 1em; text-align: center; vertical-align: top\">20</td>\n",
       "        <td style=\"padding-left: 1em; padding-right: 1em; text-align: center; vertical-align: top\">0</td>\n",
       "        <td style=\"padding-left: 1em; padding-right: 1em; text-align: center; vertical-align: top\">0</td>\n",
       "        <td style=\"padding-left: 1em; padding-right: 1em; text-align: center; vertical-align: top\">1</td>\n",
       "        <td style=\"padding-left: 1em; padding-right: 1em; text-align: center; vertical-align: top\">2002-5-13</td>\n",
       "        <td style=\"padding-left: 1em; padding-right: 1em; text-align: center; vertical-align: top\">0.91155</td>\n",
       "        <td style=\"padding-left: 1em; padding-right: 1em; text-align: center; vertical-align: top\">0.91155</td>\n",
       "        <td style=\"padding-left: 1em; padding-right: 1em; text-align: center; vertical-align: top\">0.91155</td>\n",
       "        <td style=\"padding-left: 1em; padding-right: 1em; text-align: center; vertical-align: top\">0.91155</td>\n",
       "    </tr>\n",
       "    <tr>\n",
       "        <td style=\"padding-left: 1em; padding-right: 1em; text-align: center; vertical-align: top\">2002</td>\n",
       "        <td style=\"padding-left: 1em; padding-right: 1em; text-align: center; vertical-align: top\">5</td>\n",
       "        <td style=\"padding-left: 1em; padding-right: 1em; text-align: center; vertical-align: top\">14</td>\n",
       "        <td style=\"padding-left: 1em; padding-right: 1em; text-align: center; vertical-align: top\">20</td>\n",
       "        <td style=\"padding-left: 1em; padding-right: 1em; text-align: center; vertical-align: top\">0</td>\n",
       "        <td style=\"padding-left: 1em; padding-right: 1em; text-align: center; vertical-align: top\">0</td>\n",
       "        <td style=\"padding-left: 1em; padding-right: 1em; text-align: center; vertical-align: top\">1</td>\n",
       "        <td style=\"padding-left: 1em; padding-right: 1em; text-align: center; vertical-align: top\">2002-5-14</td>\n",
       "        <td style=\"padding-left: 1em; padding-right: 1em; text-align: center; vertical-align: top\">0.90275</td>\n",
       "        <td style=\"padding-left: 1em; padding-right: 1em; text-align: center; vertical-align: top\">0.90275</td>\n",
       "        <td style=\"padding-left: 1em; padding-right: 1em; text-align: center; vertical-align: top\">0.90275</td>\n",
       "        <td style=\"padding-left: 1em; padding-right: 1em; text-align: center; vertical-align: top\">0.90275</td>\n",
       "    </tr>\n",
       "    <tr>\n",
       "        <td style=\"padding-left: 1em; padding-right: 1em; text-align: center; vertical-align: top\">2002</td>\n",
       "        <td style=\"padding-left: 1em; padding-right: 1em; text-align: center; vertical-align: top\">5</td>\n",
       "        <td style=\"padding-left: 1em; padding-right: 1em; text-align: center; vertical-align: top\">15</td>\n",
       "        <td style=\"padding-left: 1em; padding-right: 1em; text-align: center; vertical-align: top\">20</td>\n",
       "        <td style=\"padding-left: 1em; padding-right: 1em; text-align: center; vertical-align: top\">0</td>\n",
       "        <td style=\"padding-left: 1em; padding-right: 1em; text-align: center; vertical-align: top\">0</td>\n",
       "        <td style=\"padding-left: 1em; padding-right: 1em; text-align: center; vertical-align: top\">1</td>\n",
       "        <td style=\"padding-left: 1em; padding-right: 1em; text-align: center; vertical-align: top\">2002-5-15</td>\n",
       "        <td style=\"padding-left: 1em; padding-right: 1em; text-align: center; vertical-align: top\">0.91255</td>\n",
       "        <td style=\"padding-left: 1em; padding-right: 1em; text-align: center; vertical-align: top\">0.91255</td>\n",
       "        <td style=\"padding-left: 1em; padding-right: 1em; text-align: center; vertical-align: top\">0.91255</td>\n",
       "        <td style=\"padding-left: 1em; padding-right: 1em; text-align: center; vertical-align: top\">0.91255</td>\n",
       "    </tr>\n",
       "    <tr>\n",
       "        <td style=\"padding-left: 1em; padding-right: 1em; text-align: center; vertical-align: top\">2002</td>\n",
       "        <td style=\"padding-left: 1em; padding-right: 1em; text-align: center; vertical-align: top\">5</td>\n",
       "        <td style=\"padding-left: 1em; padding-right: 1em; text-align: center; vertical-align: top\">16</td>\n",
       "        <td style=\"padding-left: 1em; padding-right: 1em; text-align: center; vertical-align: top\">20</td>\n",
       "        <td style=\"padding-left: 1em; padding-right: 1em; text-align: center; vertical-align: top\">0</td>\n",
       "        <td style=\"padding-left: 1em; padding-right: 1em; text-align: center; vertical-align: top\">0</td>\n",
       "        <td style=\"padding-left: 1em; padding-right: 1em; text-align: center; vertical-align: top\">1</td>\n",
       "        <td style=\"padding-left: 1em; padding-right: 1em; text-align: center; vertical-align: top\">2002-5-16</td>\n",
       "        <td style=\"padding-left: 1em; padding-right: 1em; text-align: center; vertical-align: top\">0.91195</td>\n",
       "        <td style=\"padding-left: 1em; padding-right: 1em; text-align: center; vertical-align: top\">0.91195</td>\n",
       "        <td style=\"padding-left: 1em; padding-right: 1em; text-align: center; vertical-align: top\">0.91195</td>\n",
       "        <td style=\"padding-left: 1em; padding-right: 1em; text-align: center; vertical-align: top\">0.91195</td>\n",
       "    </tr>\n",
       "</table>\n",
       "[69296 rows x 12 columns]<br/>Note: Only the head of the SFrame is printed.<br/>You can use print_rows(num_rows=m, num_columns=n) to print more rows and columns.\n",
       "</div>"
      ],
      "text/plain": [
       "Columns:\n",
       "\tyear\tint\n",
       "\tmonth\tint\n",
       "\tday\tint\n",
       "\thour\tint\n",
       "\tminute\tint\n",
       "\tsecond\tint\n",
       "\tvolume\tint\n",
       "\tdate\tstr\n",
       "\topen\tfloat\n",
       "\thigh\tfloat\n",
       "\tlow\tfloat\n",
       "\tclose\tfloat\n",
       "\n",
       "Rows: 69296\n",
       "\n",
       "Data:\n",
       "+------+-------+-----+------+--------+--------+--------+-----------+---------+\n",
       "| year | month | day | hour | minute | second | volume |    date   |   open  |\n",
       "+------+-------+-----+------+--------+--------+--------+-----------+---------+\n",
       "| 2002 |   5   |  6  |  20  |   0    |   0    |   1    |  2002-5-6 | 0.91825 |\n",
       "| 2002 |   5   |  7  |  20  |   0    |   0    |   1    |  2002-5-7 | 0.91535 |\n",
       "| 2002 |   5   |  8  |  20  |   0    |   0    |   1    |  2002-5-8 | 0.90435 |\n",
       "| 2002 |   5   |  9  |  20  |   0    |   0    |   1    |  2002-5-9 | 0.90935 |\n",
       "| 2002 |   5   |  10 |  20  |   0    |   0    |   1    | 2002-5-10 |  0.914  |\n",
       "| 2002 |   5   |  10 |  22  |   0    |   0    |   1    | 2002-5-10 |  0.9141 |\n",
       "| 2002 |   5   |  13 |  20  |   0    |   0    |   1    | 2002-5-13 | 0.91155 |\n",
       "| 2002 |   5   |  14 |  20  |   0    |   0    |   1    | 2002-5-14 | 0.90275 |\n",
       "| 2002 |   5   |  15 |  20  |   0    |   0    |   1    | 2002-5-15 | 0.91255 |\n",
       "| 2002 |   5   |  16 |  20  |   0    |   0    |   1    | 2002-5-16 | 0.91195 |\n",
       "+------+-------+-----+------+--------+--------+--------+-----------+---------+\n",
       "+---------+---------+---------+\n",
       "|   high  |   low   |  close  |\n",
       "+---------+---------+---------+\n",
       "| 0.91825 | 0.91825 | 0.91825 |\n",
       "| 0.91535 | 0.91535 | 0.91535 |\n",
       "| 0.90435 | 0.90435 | 0.90435 |\n",
       "| 0.90935 | 0.90935 | 0.90935 |\n",
       "|  0.914  |  0.914  |  0.914  |\n",
       "|  0.9141 |  0.9141 |  0.9141 |\n",
       "| 0.91155 | 0.91155 | 0.91155 |\n",
       "| 0.90275 | 0.90275 | 0.90275 |\n",
       "| 0.91255 | 0.91255 | 0.91255 |\n",
       "| 0.91195 | 0.91195 | 0.91195 |\n",
       "+---------+---------+---------+\n",
       "[69296 rows x 12 columns]\n",
       "Note: Only the head of the SFrame is printed.\n",
       "You can use print_rows(num_rows=m, num_columns=n) to print more rows and columns."
      ]
     },
     "execution_count": 4,
     "metadata": {},
     "output_type": "execute_result"
    }
   ],
   "source": [
    "sf_eur_usd_h1.add_column( sf_eur_usd_h1['year'] .astype(str)+ '-' + sf_eur_usd_h1['month'].astype(str) + \n",
    "                         '-' + sf_eur_usd_h1['day'].astype(str) , 'date' )\n",
    "sf_eur_usd_h1.add_column((sf_eur_usd_h1['openBid'] + sf_eur_usd_h1['openAsk']) /2 , 'open')\n",
    "sf_eur_usd_h1.add_column((sf_eur_usd_h1['highBid'] + sf_eur_usd_h1['highAsk']) /2 , 'high')\n",
    "sf_eur_usd_h1.add_column((sf_eur_usd_h1['lowBid'] + sf_eur_usd_h1['lowAsk']) /2 , 'low')\n",
    "sf_eur_usd_h1.add_column((sf_eur_usd_h1['closeBid'] + sf_eur_usd_h1['closeAsk']) /2 , 'close')\n",
    "sf_eur_usd_h1.remove_columns(['openBid','openAsk','highBid','highAsk','lowBid','lowAsk','closeBid','closeAsk','complete'])"
   ]
  },
  {
   "cell_type": "code",
   "execution_count": null,
   "metadata": {
    "collapsed": false
   },
   "outputs": [],
   "source": [
    "sf_eur_usd_h1 = sf_eur_usd_h1.sort(['year','month','day','hour','minute','second'])"
   ]
  },
  {
   "cell_type": "code",
   "execution_count": null,
   "metadata": {
    "collapsed": false
   },
   "outputs": [],
   "source": [
    "sf_eur_usd_h1_tmp = sf_eur_usd_h1"
   ]
  },
  {
   "cell_type": "code",
   "execution_count": null,
   "metadata": {
    "collapsed": false
   },
   "outputs": [],
   "source": [
    "sf_eur_usd_h1_tmp.add_column(sf_eur_usd_h1_tmp['open'] *sf_eur_usd_h1_tmp['volume'] ,'open_volume')\n",
    "sf_eur_usd_h1_tmp.add_column(sf_eur_usd_h1_tmp['high'] *sf_eur_usd_h1_tmp['volume'] ,'high_volume')\n",
    "sf_eur_usd_h1_tmp.add_column(sf_eur_usd_h1_tmp['low'] *sf_eur_usd_h1_tmp['volume'] ,'low_volume')\n",
    "sf_eur_usd_h1_tmp.add_column(sf_eur_usd_h1_tmp['close'] *sf_eur_usd_h1_tmp['volume'] ,'close_volume')"
   ]
  },
  {
   "cell_type": "code",
   "execution_count": null,
   "metadata": {
    "collapsed": false
   },
   "outputs": [],
   "source": [
    "sf_eur_usd_h1_tmp.show()"
   ]
  },
  {
   "cell_type": "code",
   "execution_count": null,
   "metadata": {
    "collapsed": false
   },
   "outputs": [],
   "source": [
    "sf_eur_usd_h1_tmp[sf_eur_usd_h1_tmp['volume'] >100].shape"
   ]
  },
  {
   "cell_type": "code",
   "execution_count": null,
   "metadata": {
    "collapsed": false
   },
   "outputs": [],
   "source": [
    "sf_eur_usd_h1_tmp.shape"
   ]
  },
  {
   "cell_type": "code",
   "execution_count": null,
   "metadata": {
    "collapsed": false
   },
   "outputs": [],
   "source": [
    "sf_eur_usd_d1_tmp = sf_eur_usd_h1_tmp.groupby(['day','month','year','date'],\n",
    "                                              [gl.aggregate.SUM('open_volume'),\n",
    "                                               gl.aggregate.SUM('high_volume'),\n",
    "                                               gl.aggregate.SUM('low_volume'),\n",
    "                                               gl.aggregate.SUM('close_volume'),\n",
    "                                               gl.aggregate.SUM('volume'),\n",
    "                                              ]\n",
    "                                             )"
   ]
  },
  {
   "cell_type": "code",
   "execution_count": null,
   "metadata": {
    "collapsed": false
   },
   "outputs": [],
   "source": [
    "sf_eur_usd_d1_tmp = sf_eur_usd_d1_tmp.sort(['year','month','day'])"
   ]
  },
  {
   "cell_type": "code",
   "execution_count": null,
   "metadata": {
    "collapsed": false
   },
   "outputs": [],
   "source": [
    "sf_eur_usd_d1_tmp"
   ]
  },
  {
   "cell_type": "code",
   "execution_count": null,
   "metadata": {
    "collapsed": true
   },
   "outputs": [],
   "source": []
  }
 ],
 "metadata": {
  "kernelspec": {
   "display_name": "Python 2",
   "language": "python",
   "name": "python2"
  },
  "language_info": {
   "codemirror_mode": {
    "name": "ipython",
    "version": 2
   },
   "file_extension": ".py",
   "mimetype": "text/x-python",
   "name": "python",
   "nbconvert_exporter": "python",
   "pygments_lexer": "ipython2",
   "version": "2.7.6"
  }
 },
 "nbformat": 4,
 "nbformat_minor": 0
}
